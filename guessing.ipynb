{
 "cells": [
  {
   "cell_type": "markdown",
   "metadata": {},
   "source": [
    "# The Guessing Game\n"
   ]
  },
  {
   "cell_type": "markdown",
   "metadata": {},
   "source": [
    "Get your API key by signing up at \"https://console.groq.com/keys\" and save it in **.env** file as **GROQ_API_KEY**=\"Your API key\""
   ]
  },
  {
   "cell_type": "code",
   "execution_count": 54,
   "metadata": {
    "metadata": {}
   },
   "outputs": [
    {
     "data": {
      "text/plain": [
       "True"
      ]
     },
     "execution_count": 54,
     "metadata": {},
     "output_type": "execute_result"
    }
   ],
   "source": [
    "from dotenv import load_dotenv\n",
    "\n",
    "load_dotenv() "
   ]
  },
  {
   "cell_type": "code",
   "execution_count": 48,
   "metadata": {
    "metadata": {}
   },
   "outputs": [],
   "source": [
    "from langchain.prompts import PromptTemplate\n",
    "from langchain_core.output_parsers import StrOutputParser\n",
    "\n",
    "\n",
    "class Player:\n",
    "    def __init__(self, model):\n",
    "        self.observations = []\n",
    "        self.model = model\n",
    "        self.concept = None\n",
    "        self.history = []\n",
    "\n",
    "    def initialize_host(self):\n",
    "        template = \"\"\"\n",
    "        You are the host of a game where a player asks questions about\n",
    "        a thing to guess what it is.\n",
    "\n",
    "        Write the name of a thing. It must be a common object.\n",
    "        It must be a single word. Do not write anything else. \n",
    "        Only write the name of the thing with no punctuation.\n",
    "\n",
    "        Here is a list of things you cannot use (Make sure not to use these):\n",
    "        {history}\n",
    "        \"\"\"\n",
    "        prompt = PromptTemplate.from_template(template)\n",
    "        chain = prompt | self.model | StrOutputParser()\n",
    "\n",
    "        self.concept = chain.invoke({\"history\": \"\\n\".join(self.history)})\n",
    "        self.history.append(self.concept)\n",
    "\n",
    "        print(f\"Concept: {self.concept}\")\n",
    "\n",
    "    def initialize_player(self):\n",
    "        self.observations = []\n",
    "\n",
    "    def ask(self, questions_left):\n",
    "\n",
    "        template = \"\"\"\n",
    "        You are a player in a game where you must ask Yes/No questions to identify a common object, \n",
    "        which is a single word.\n",
    "\n",
    "        Here are the questions you've already asked:\n",
    "\n",
    "        {observations}\n",
    "\n",
    "        You have {questions_left} questions left. To maximize your chances, \n",
    "        aim to guess the object with as few questions as possible. \n",
    "        If only 1 question remains, you must make a guess or lose the game. \n",
    "        Use past questions to guide your final guess.\n",
    "\n",
    "        Be aggressive in your approach. Start with broad categories like whether the \n",
    "        object is found indoors or outdoors. If it's indoors, narrow down further \n",
    "        by considering rooms like the kitchen, living room, or bedroom. \n",
    "        Then, focus on specific items within those categories. Try answer as \n",
    "        soon as possible. \n",
    "\n",
    "        Be as concise as possible when asking a question. Do not anounce that you\n",
    "        will ask the question. Do not say \"Let's get started\", or introduce your \n",
    "        question. Just write the question.\n",
    "\n",
    "\n",
    "        Make any guess based on response to your questions if you have not made\n",
    "        any guess if its your last question. Guess is a thing actually. Is it not\n",
    "        a category. Thing is pencil, pen, or things like that, final guess is not\n",
    "        is a used in room or kitchen or office etc.\n",
    "\n",
    "        Remember:\n",
    "\n",
    "        Ask only binary questions.\n",
    "        Be concise; avoid unnecessary introductions to your questions.\n",
    "\n",
    "        Examples of good questions:\n",
    "        Is it a fruit?\n",
    "        Is it bigger than a car?\n",
    "        Is it alive?\n",
    "\n",
    "        Examples of bad questions:\n",
    "        Can I ask a question?\n",
    "        Can you tell me more about the thing?\n",
    "        What is the thing?\n",
    "        How does the thing look?\n",
    "\n",
    "        \"\"\"\n",
    "\n",
    "        prompt = PromptTemplate.from_template(template)\n",
    "        chain = prompt | self.model | StrOutputParser()\n",
    "        return chain.invoke(\n",
    "            {\n",
    "                \"observations\": \"\\n\".join(self.observations),\n",
    "                \"questions_left\": questions_left,\n",
    "            }\n",
    "        )\n",
    "\n",
    "    def answer(self, question):\n",
    "        template = \"\"\"\n",
    "        You are the host of a game where a player asks questions about\n",
    "        a {concept} trying to guess what it is.\n",
    "\n",
    "        The player has asked you the following question: {question}.\n",
    "\n",
    "        If the player guessed that the thing is \"{concept}\", answer with\n",
    "        the word \"GUESSED\". If the question refers to \"{concept}\", answer\n",
    "        with the word \"GUESSED\".\n",
    "\n",
    "        If the player didn't guessed, answer the question with a \n",
    "        simple Yes or No. Do not say anything else. Do not use any\n",
    "        punctuation.\n",
    "        \"\"\"\n",
    "        prompt = PromptTemplate.from_template(template)\n",
    "        chain = prompt | self.model | StrOutputParser()\n",
    "        return chain.invoke({\"concept\": self.concept, \"question\": question})\n",
    "\n",
    "    def add_observation(self, question, answer):\n",
    "        self.observations.append(f\"Question: {question}. Answer: {answer}\")"
   ]
  },
  {
   "cell_type": "code",
   "execution_count": 49,
   "metadata": {
    "metadata": {}
   },
   "outputs": [
    {
     "name": "stdout",
     "output_type": "stream",
     "text": [
      "Concept: Pencil\n"
     ]
    }
   ],
   "source": [
    "#from langchain_community.llms import Ollama\n",
    "\n",
    "from langchain_groq import ChatGroq\n",
    "\n",
    "player = Player(model=ChatGroq(model=\"Llama3-70b-8192\"))\n",
    "player.initialize_host()"
   ]
  },
  {
   "cell_type": "code",
   "execution_count": 50,
   "metadata": {
    "metadata": {}
   },
   "outputs": [
    {
     "data": {
      "text/plain": [
       "'Is it something you can hold in your hand?'"
      ]
     },
     "execution_count": 50,
     "metadata": {},
     "output_type": "execute_result"
    }
   ],
   "source": [
    "question = player.ask(20)\n",
    "question"
   ]
  },
  {
   "cell_type": "code",
   "execution_count": 51,
   "metadata": {
    "metadata": {}
   },
   "outputs": [
    {
     "data": {
      "text/plain": [
       "'Yes'"
      ]
     },
     "execution_count": 51,
     "metadata": {},
     "output_type": "execute_result"
    }
   ],
   "source": [
    "player.answer(question)"
   ]
  },
  {
   "cell_type": "code",
   "execution_count": 52,
   "metadata": {
    "metadata": {}
   },
   "outputs": [],
   "source": [
    "class Game:\n",
    "    def __init__(self, model1, model2, rounds=3, questions=20):\n",
    "        self.model1 = model1\n",
    "        self.model2 = model2\n",
    "        self.rounds = rounds\n",
    "        self.questions = questions\n",
    "\n",
    "    def start(self):\n",
    "        players = {\n",
    "            \"0\": {\n",
    "                \"player\": Player(model=self.model1),\n",
    "                \"score\": 0,\n",
    "            },\n",
    "            \"1\": {\n",
    "                \"player\": Player(model=self.model2),\n",
    "                \"score\": 0,\n",
    "            },\n",
    "        }\n",
    "\n",
    "        host_index = 0\n",
    "        for round in range(self.rounds):\n",
    "            print(f\"\\nRound {round + 1}. Player {host_index + 1} is the host.\")\n",
    "\n",
    "            player_index = 1 - host_index\n",
    "            if self._play(\n",
    "                players[str(host_index)][\"player\"], players[str(player_index)][\"player\"]\n",
    "            ):\n",
    "                print(f\"Player {player_index + 1} guessed correctly.\")\n",
    "                players[str(player_index)][\"score\"] += 1\n",
    "            else:\n",
    "                print(f\"Player {player_index + 1} didn't guess correctly.\")\n",
    "                players[str(host_index)][\"score\"] += 1\n",
    "\n",
    "            host_index = 1 - host_index\n",
    "\n",
    "        print(\"Final score:\")\n",
    "        print(f\"Player 1: {players['0']['score']}\")\n",
    "        print(f\"Player 2: {players['1']['score']}\")\n",
    "\n",
    "    def _play(self, host, player):\n",
    "        host.initialize_host()\n",
    "        player.initialize_player()\n",
    "        for question_index in range(self.questions):\n",
    "            question = player.ask(self.questions - question_index)\n",
    "            answer = host.answer(question)\n",
    "\n",
    "            print(f\"Question {question_index + 1}: {question}. Answer: {answer}\")\n",
    "\n",
    "            player.add_observation(question, answer)\n",
    "\n",
    "            if \"guessed\" in answer.lower():\n",
    "                return True\n",
    "\n",
    "        return False"
   ]
  },
  {
   "cell_type": "code",
   "execution_count": 53,
   "metadata": {
    "metadata": {}
   },
   "outputs": [
    {
     "name": "stdout",
     "output_type": "stream",
     "text": [
      "\n",
      "Round 1. Player 1 is the host.\n",
      "Concept: Pencil\n",
      "Question 1: Is it something that can be held in your hand?. Answer: Yes\n",
      "Question 2: Is it used indoors?. Answer: Yes\n",
      "Question 3: Is it used for personal grooming?. Answer: No\n",
      "Question 4: Is it found in a kitchen?. Answer: No\n",
      "Question 5: Is it used for entertainment?. Answer: No\n",
      "Question 6: Is it made of plastic?. Answer: No\n",
      "Question 7: Is it made of fabric?. Answer: No\n",
      "Question 8: Is it made of metal?. Answer: No\n",
      "Question 9: Is it used for a specific task?. Answer: Yes\n",
      "Question 10: Is it used primarily for a functional purpose?. Answer: Yes\n",
      "Question 11: Is it used primarily with one hand?. Answer: Yes\n",
      "Question 12: Is it used to manipulate or handle something else?. Answer: Yes\n",
      "Question 13: Is it used to manipulate or handle food or drink?. Answer: No\n",
      "Question 14: Is it found in a bedroom?. Answer: No\n",
      "Question 15: Is it used in an office?. Answer: Yes\n",
      "Question 16: Is it used to write or draw?. Answer: Yes\n",
      "Question 17: Is it something that leaves a mark?. Answer: Yes\n",
      "Question 18: Is it used to write or draw on paper?. Answer: Yes\n",
      "Question 19: Is it a pen?. Answer: No\n",
      "Question 20: Is it a pencil?. Answer: GUESSED\n",
      "Player 2 guessed correctly.\n",
      "\n",
      "Round 2. Player 2 is the host.\n",
      "Concept: Pencil\n",
      "Question 1: Is it something that can be held in your hand?. Answer: Yes\n",
      "Question 2: Is it used for entertainment?. Answer: No\n",
      "Question 3: Is it used primarily indoors?. Answer: Yes\n",
      "Question 4: Is it used for personal grooming?. Answer: No\n",
      "Question 5: Is it made of plastic?. Answer: No\n",
      "Question 6: Is it made of fabric?. Answer: No\n",
      "Question 7: Is it used for a specific task or function?. Answer: Yes\n",
      "Question 8: Is it found in a kitchen?. Answer: No\n",
      "Question 9: Is it used for a task related to cleanliness?. Answer: No\n",
      "Question 10: Is it used for a task related to organization?. Answer: No\n",
      "Question 11: Is it found in a bedroom?. Answer: No\n",
      "Question 12: Is it made of metal?. Answer: No\n",
      "Question 13: Is it used for a task related to reading or writing?. Answer: Yes\n",
      "Question 14: Is it something used to write or draw with?. Answer: Yes\n",
      "Question 15: Is it a pen?. Answer: No\n",
      "Question 16: Is it a pencil?. Answer: GUESSED\n",
      "Player 1 guessed correctly.\n",
      "\n",
      "Round 3. Player 1 is the host.\n",
      "Concept: Toaster\n",
      "Question 1: Is it something that can be held in your hand?. Answer: No\n",
      "Question 2: Is it located outdoors?. Answer: No\n",
      "Question 3: Is it man-made?. Answer: Yes\n",
      "Question 4: Is it used for entertainment?. Answer: No\n",
      "Question 5: Is it used for a specific purpose?. Answer: Yes\n",
      "Question 6: Is it found in a kitchen?. Answer: Yes\n",
      "Question 7: Is it electronic?. Answer: Yes\n",
      "Question 8: Is it a type of appliance?. Answer: Yes\n",
      "Question 9: Is it a cooking device?. Answer: Yes\n",
      "Question 10: Is it a type of oven?. Answer: No\n",
      "Question 11: Is it used for heating or warming food or drinks?. Answer: Yes\n",
      "Question 12: Is it a toaster?. Answer: GUESSED\n",
      "Player 2 guessed correctly.\n",
      "\n",
      "Round 4. Player 2 is the host.\n",
      "Concept: Toaster\n",
      "Question 1: Is the object something that can be held in your hand?. Answer: No\n",
      "Question 2: Is the object found indoors?. Answer: Yes\n",
      "Question 3: Is the object a man-made object?. Answer: Yes\n",
      "Question 4: Is the object electronic?. Answer: Yes\n",
      "Question 5: Is the object typically found in a living room?. Answer: No\n",
      "Question 6: Is the object typically found in a bedroom?. Answer: No\n",
      "Question 7: Is the object typically found in a kitchen?. Answer: Yes\n",
      "Question 8: Is the object an appliance?. Answer: Yes\n",
      "Question 9: Is the object small enough to fit on a countertop?. Answer: Yes\n",
      "Question 10: Is the object used for cooking or heating food?. Answer: Yes\n",
      "Question 11: Is the object used for a specific task, like brewing or toasting?. Answer: Yes\n",
      "Question 12: Is the object used to heat or boil water?. Answer: No\n",
      "Question 13: Is the object used for a task related to food or drink preparation?. Answer: Yes\n",
      "Question 14: Is the object a toaster?. Answer: GUESSED\n",
      "Player 1 guessed correctly.\n",
      "\n",
      "Round 5. Player 1 is the host.\n",
      "Concept: Kettle\n",
      "Question 1: Is it something you can hold in your hand?. Answer: Yes\n",
      "Question 2: Is it used for a specific purpose?. Answer: Yes\n",
      "Question 3: Is it typically found indoors?. Answer: Yes\n",
      "Question 4: Is it used for personal grooming?. Answer: No\n",
      "Question 5: Is it made of plastic?. Answer: No\n",
      "Question 6: Is it made of metal?. Answer: Yes\n",
      "Question 7: Is it used for a task related to food or drink?. Answer: Yes\n",
      "Question 8: Is it used for preparing food or drinks?. Answer: Yes\n",
      "Question 9: Is it used for preparing hot foods or drinks?. Answer: Yes\n",
      "Question 10: Is it used to cook or heat food or drinks?. Answer: Yes\n",
      "Question 11: Is it used on a stovetop?. Answer: Yes\n",
      "Question 12: Is it a utensil?. Answer: Yes\n",
      "Question 13: Is it a pan?. Answer: No\n",
      "Question 14: Is it used to cook or heat a specific type of food or drink, such as eggs or coffee?. Answer: Yes\n",
      "Question 15: Is it used to cook or heat a liquid?. Answer: Yes\n",
      "Question 16: Is it used to heat a liquid to a high temperature?. Answer: Yes\n",
      "Question 17: Is it used to boil water?. Answer: Yes\n",
      "Question 18: Is it a kettle?. Answer: GUESSED\n",
      "Player 2 guessed correctly.\n",
      "Final score:\n",
      "Player 1: 2\n",
      "Player 2: 3\n"
     ]
    }
   ],
   "source": [
    "from langchain_groq import ChatGroq\n",
    "\n",
    "game = Game(\n",
    "    model1=ChatGroq(model=\"Llama3-70b-8192\"),\n",
    "    model2=ChatGroq(model_name=\"Llama3-70b-8192\"),\n",
    "    rounds=5,\n",
    ")\n",
    "game.start()"
   ]
  },
  {
   "cell_type": "code",
   "execution_count": null,
   "metadata": {},
   "outputs": [],
   "source": []
  }
 ],
 "metadata": {
  "kernelspec": {
   "display_name": ".venv",
   "language": "python",
   "name": "python3"
  },
  "language_info": {
   "codemirror_mode": {
    "name": "ipython",
    "version": 3
   },
   "file_extension": ".py",
   "mimetype": "text/x-python",
   "name": "python",
   "nbconvert_exporter": "python",
   "pygments_lexer": "ipython3",
   "version": "3.11.9"
  }
 },
 "nbformat": 4,
 "nbformat_minor": 2
}
